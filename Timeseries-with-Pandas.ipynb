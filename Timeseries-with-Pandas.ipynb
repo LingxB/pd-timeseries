{
 "cells": [
  {
   "cell_type": "markdown",
   "metadata": {},
   "source": [
    "# Pandas for Time series data"
   ]
  },
  {
   "cell_type": "markdown",
   "metadata": {},
   "source": [
    "#### CONTENT\n",
    "\n",
    "1. [Load Data](#Load-data)\n",
    "2. [Index Methods](#Pandas-index-methods)\n",
    "3. [Data to time series](#Convert-year,-month-in-different-columns-into-timeseries)\n",
    "4. [Sort time series](#Sort-by-time)\n",
    "5. [Plot](#Plot)\n",
    "6. [Other](#Other)"
   ]
  },
  {
   "cell_type": "code",
   "execution_count": 1,
   "metadata": {
    "collapsed": false
   },
   "outputs": [
    {
     "data": {
      "text/plain": [
       "'0.17.1'"
      ]
     },
     "execution_count": 1,
     "metadata": {},
     "output_type": "execute_result"
    }
   ],
   "source": [
    "import pandas as pd\n",
    "%matplotlib inline\n",
    "pd.__version__"
   ]
  },
  {
   "cell_type": "markdown",
   "metadata": {},
   "source": [
    "### Load data"
   ]
  },
  {
   "cell_type": "markdown",
   "metadata": {},
   "source": [
    "The example file is in .xlsx Excel format, there are plently of builtin methods to load files in other format, simply use `pd.read_ + tab` to see other options"
   ]
  },
  {
   "cell_type": "code",
   "execution_count": 2,
   "metadata": {
    "collapsed": false
   },
   "outputs": [],
   "source": [
    "xlsx = pd.ExcelFile('ExampleData.xlsx')"
   ]
  },
  {
   "cell_type": "markdown",
   "metadata": {},
   "source": [
    "#### Get all excel sheet names in a list"
   ]
  },
  {
   "cell_type": "code",
   "execution_count": 3,
   "metadata": {
    "collapsed": false
   },
   "outputs": [
    {
     "data": {
      "text/plain": [
       "['Data', 'Sheet1']"
      ]
     },
     "execution_count": 3,
     "metadata": {},
     "output_type": "execute_result"
    }
   ],
   "source": [
    "xlsx.sheet_names"
   ]
  },
  {
   "cell_type": "markdown",
   "metadata": {
    "collapsed": true
   },
   "source": [
    "#### Read xlsx sheet into pandas dataframe"
   ]
  },
  {
   "cell_type": "code",
   "execution_count": 4,
   "metadata": {
    "collapsed": false
   },
   "outputs": [
    {
     "data": {
      "text/html": [
       "<div>\n",
       "<table border=\"1\" class=\"dataframe\">\n",
       "  <thead>\n",
       "    <tr style=\"text-align: right;\">\n",
       "      <th></th>\n",
       "      <th>BRAND</th>\n",
       "      <th>AREA</th>\n",
       "      <th>YEAR</th>\n",
       "      <th>MONTH</th>\n",
       "      <th>DEMAND</th>\n",
       "    </tr>\n",
       "  </thead>\n",
       "  <tbody>\n",
       "    <tr>\n",
       "      <th>0</th>\n",
       "      <td>Brand_A</td>\n",
       "      <td>ASTRL</td>\n",
       "      <td>2016</td>\n",
       "      <td>1</td>\n",
       "      <td>21</td>\n",
       "    </tr>\n",
       "    <tr>\n",
       "      <th>1</th>\n",
       "      <td>Brand_A</td>\n",
       "      <td>ASTRL</td>\n",
       "      <td>2016</td>\n",
       "      <td>4</td>\n",
       "      <td>1666</td>\n",
       "    </tr>\n",
       "    <tr>\n",
       "      <th>2</th>\n",
       "      <td>Brand_A</td>\n",
       "      <td>ASTRL</td>\n",
       "      <td>2016</td>\n",
       "      <td>5</td>\n",
       "      <td>1296</td>\n",
       "    </tr>\n",
       "    <tr>\n",
       "      <th>3</th>\n",
       "      <td>Brand_A</td>\n",
       "      <td>ASTRL</td>\n",
       "      <td>2016</td>\n",
       "      <td>6</td>\n",
       "      <td>978</td>\n",
       "    </tr>\n",
       "    <tr>\n",
       "      <th>4</th>\n",
       "      <td>Brand_A</td>\n",
       "      <td>ASTRL</td>\n",
       "      <td>2016</td>\n",
       "      <td>7</td>\n",
       "      <td>872</td>\n",
       "    </tr>\n",
       "  </tbody>\n",
       "</table>\n",
       "</div>"
      ],
      "text/plain": [
       "     BRAND   AREA  YEAR  MONTH  DEMAND\n",
       "0  Brand_A  ASTRL  2016      1      21\n",
       "1  Brand_A  ASTRL  2016      4    1666\n",
       "2  Brand_A  ASTRL  2016      5    1296\n",
       "3  Brand_A  ASTRL  2016      6     978\n",
       "4  Brand_A  ASTRL  2016      7     872"
      ]
     },
     "execution_count": 4,
     "metadata": {},
     "output_type": "execute_result"
    }
   ],
   "source": [
    "df = pd.read_excel(xlsx, sheetname='Data')\n",
    "\n",
    "df.head(5) # Show first 5 rows of the dataframe"
   ]
  },
  {
   "cell_type": "markdown",
   "metadata": {},
   "source": [
    "### Pandas index methods"
   ]
  },
  {
   "cell_type": "markdown",
   "metadata": {},
   "source": [
    "#### Basic index methods"
   ]
  },
  {
   "cell_type": "code",
   "execution_count": 5,
   "metadata": {
    "collapsed": false
   },
   "outputs": [
    {
     "data": {
      "text/plain": [
       "'ASTRL'"
      ]
     },
     "execution_count": 5,
     "metadata": {},
     "output_type": "execute_result"
    }
   ],
   "source": [
    "df.ix[0,1] # By index numbers similar to matrix index"
   ]
  },
  {
   "cell_type": "code",
   "execution_count": 6,
   "metadata": {
    "collapsed": false
   },
   "outputs": [
    {
     "data": {
      "text/html": [
       "<div>\n",
       "<table border=\"1\" class=\"dataframe\">\n",
       "  <thead>\n",
       "    <tr style=\"text-align: right;\">\n",
       "      <th></th>\n",
       "      <th>BRAND</th>\n",
       "      <th>AREA</th>\n",
       "      <th>YEAR</th>\n",
       "      <th>MONTH</th>\n",
       "      <th>DEMAND</th>\n",
       "    </tr>\n",
       "  </thead>\n",
       "  <tbody>\n",
       "    <tr>\n",
       "      <th>0</th>\n",
       "      <td>Brand_A</td>\n",
       "      <td>ASTRL</td>\n",
       "      <td>2016</td>\n",
       "      <td>1</td>\n",
       "      <td>21</td>\n",
       "    </tr>\n",
       "    <tr>\n",
       "      <th>1</th>\n",
       "      <td>Brand_A</td>\n",
       "      <td>ASTRL</td>\n",
       "      <td>2016</td>\n",
       "      <td>4</td>\n",
       "      <td>1666</td>\n",
       "    </tr>\n",
       "    <tr>\n",
       "      <th>2</th>\n",
       "      <td>Brand_A</td>\n",
       "      <td>ASTRL</td>\n",
       "      <td>2016</td>\n",
       "      <td>5</td>\n",
       "      <td>1296</td>\n",
       "    </tr>\n",
       "    <tr>\n",
       "      <th>3</th>\n",
       "      <td>Brand_A</td>\n",
       "      <td>ASTRL</td>\n",
       "      <td>2016</td>\n",
       "      <td>6</td>\n",
       "      <td>978</td>\n",
       "    </tr>\n",
       "    <tr>\n",
       "      <th>4</th>\n",
       "      <td>Brand_A</td>\n",
       "      <td>ASTRL</td>\n",
       "      <td>2016</td>\n",
       "      <td>7</td>\n",
       "      <td>872</td>\n",
       "    </tr>\n",
       "  </tbody>\n",
       "</table>\n",
       "</div>"
      ],
      "text/plain": [
       "     BRAND   AREA  YEAR  MONTH  DEMAND\n",
       "0  Brand_A  ASTRL  2016      1      21\n",
       "1  Brand_A  ASTRL  2016      4    1666\n",
       "2  Brand_A  ASTRL  2016      5    1296\n",
       "3  Brand_A  ASTRL  2016      6     978\n",
       "4  Brand_A  ASTRL  2016      7     872"
      ]
     },
     "execution_count": 6,
     "metadata": {},
     "output_type": "execute_result"
    }
   ],
   "source": [
    "df.ix[0:4,:] # Range can be passed as well"
   ]
  },
  {
   "cell_type": "code",
   "execution_count": 7,
   "metadata": {
    "collapsed": false
   },
   "outputs": [
    {
     "data": {
      "text/plain": [
       "0    Brand_A\n",
       "1    Brand_A\n",
       "2    Brand_A\n",
       "3    Brand_A\n",
       "4    Brand_A\n",
       "Name: BRAND, dtype: object"
      ]
     },
     "execution_count": 7,
     "metadata": {},
     "output_type": "execute_result"
    }
   ],
   "source": [
    "df['BRAND'].head(5) # Index by column name"
   ]
  },
  {
   "cell_type": "markdown",
   "metadata": {},
   "source": [
    "#### Index with conditions"
   ]
  },
  {
   "cell_type": "code",
   "execution_count": 8,
   "metadata": {
    "collapsed": false
   },
   "outputs": [
    {
     "data": {
      "text/html": [
       "<div>\n",
       "<table border=\"1\" class=\"dataframe\">\n",
       "  <thead>\n",
       "    <tr style=\"text-align: right;\">\n",
       "      <th></th>\n",
       "      <th>BRAND</th>\n",
       "      <th>AREA</th>\n",
       "      <th>YEAR</th>\n",
       "      <th>MONTH</th>\n",
       "      <th>DEMAND</th>\n",
       "    </tr>\n",
       "  </thead>\n",
       "  <tbody>\n",
       "    <tr>\n",
       "      <th>2</th>\n",
       "      <td>Brand_A</td>\n",
       "      <td>ASTRL</td>\n",
       "      <td>2016</td>\n",
       "      <td>5</td>\n",
       "      <td>1296</td>\n",
       "    </tr>\n",
       "    <tr>\n",
       "      <th>19</th>\n",
       "      <td>Brand_B VISTA</td>\n",
       "      <td>MEXICO</td>\n",
       "      <td>2015</td>\n",
       "      <td>2</td>\n",
       "      <td>1296</td>\n",
       "    </tr>\n",
       "  </tbody>\n",
       "</table>\n",
       "</div>"
      ],
      "text/plain": [
       "            BRAND    AREA  YEAR  MONTH  DEMAND\n",
       "2         Brand_A   ASTRL  2016      5    1296\n",
       "19  Brand_B VISTA  MEXICO  2015      2    1296"
      ]
     },
     "execution_count": 8,
     "metadata": {},
     "output_type": "execute_result"
    }
   ],
   "source": [
    "df.loc[df['DEMAND']==1296]"
   ]
  },
  {
   "cell_type": "markdown",
   "metadata": {},
   "source": [
    "Use `&` in `df.loc[]` to check boolean for both True "
   ]
  },
  {
   "cell_type": "code",
   "execution_count": 9,
   "metadata": {
    "collapsed": false,
    "scrolled": true
   },
   "outputs": [
    {
     "data": {
      "text/html": [
       "<div>\n",
       "<table border=\"1\" class=\"dataframe\">\n",
       "  <thead>\n",
       "    <tr style=\"text-align: right;\">\n",
       "      <th></th>\n",
       "      <th>BRAND</th>\n",
       "      <th>AREA</th>\n",
       "      <th>YEAR</th>\n",
       "      <th>MONTH</th>\n",
       "      <th>DEMAND</th>\n",
       "    </tr>\n",
       "  </thead>\n",
       "  <tbody>\n",
       "    <tr>\n",
       "      <th>1</th>\n",
       "      <td>Brand_A</td>\n",
       "      <td>ASTRL</td>\n",
       "      <td>2016</td>\n",
       "      <td>4</td>\n",
       "      <td>1666</td>\n",
       "    </tr>\n",
       "    <tr>\n",
       "      <th>2</th>\n",
       "      <td>Brand_A</td>\n",
       "      <td>ASTRL</td>\n",
       "      <td>2016</td>\n",
       "      <td>5</td>\n",
       "      <td>1296</td>\n",
       "    </tr>\n",
       "    <tr>\n",
       "      <th>3</th>\n",
       "      <td>Brand_A</td>\n",
       "      <td>ASTRL</td>\n",
       "      <td>2016</td>\n",
       "      <td>6</td>\n",
       "      <td>978</td>\n",
       "    </tr>\n",
       "    <tr>\n",
       "      <th>4</th>\n",
       "      <td>Brand_A</td>\n",
       "      <td>ASTRL</td>\n",
       "      <td>2016</td>\n",
       "      <td>7</td>\n",
       "      <td>872</td>\n",
       "    </tr>\n",
       "    <tr>\n",
       "      <th>5</th>\n",
       "      <td>Brand_A</td>\n",
       "      <td>ASTRL</td>\n",
       "      <td>2016</td>\n",
       "      <td>8</td>\n",
       "      <td>746</td>\n",
       "    </tr>\n",
       "  </tbody>\n",
       "</table>\n",
       "</div>"
      ],
      "text/plain": [
       "     BRAND   AREA  YEAR  MONTH  DEMAND\n",
       "1  Brand_A  ASTRL  2016      4    1666\n",
       "2  Brand_A  ASTRL  2016      5    1296\n",
       "3  Brand_A  ASTRL  2016      6     978\n",
       "4  Brand_A  ASTRL  2016      7     872\n",
       "5  Brand_A  ASTRL  2016      8     746"
      ]
     },
     "execution_count": 9,
     "metadata": {},
     "output_type": "execute_result"
    }
   ],
   "source": [
    "df.loc[(df['AREA']=='ASTRL') & (df['DEMAND'] > 500)] # Get all ASTRL data if demand is greater than 500"
   ]
  },
  {
   "cell_type": "markdown",
   "metadata": {},
   "source": [
    "Use `|` in `df.loc[]` to check boolean for any is True"
   ]
  },
  {
   "cell_type": "code",
   "execution_count": 10,
   "metadata": {
    "collapsed": false
   },
   "outputs": [
    {
     "data": {
      "text/html": [
       "<div>\n",
       "<table border=\"1\" class=\"dataframe\">\n",
       "  <thead>\n",
       "    <tr style=\"text-align: right;\">\n",
       "      <th></th>\n",
       "      <th>BRAND</th>\n",
       "      <th>AREA</th>\n",
       "      <th>YEAR</th>\n",
       "      <th>MONTH</th>\n",
       "      <th>DEMAND</th>\n",
       "    </tr>\n",
       "  </thead>\n",
       "  <tbody>\n",
       "    <tr>\n",
       "      <th>65</th>\n",
       "      <td>Brand_B VISTA</td>\n",
       "      <td>MUESED</td>\n",
       "      <td>2015</td>\n",
       "      <td>11</td>\n",
       "      <td>110066</td>\n",
       "    </tr>\n",
       "    <tr>\n",
       "      <th>66</th>\n",
       "      <td>Brand_B VISTA</td>\n",
       "      <td>MUESED</td>\n",
       "      <td>2015</td>\n",
       "      <td>12</td>\n",
       "      <td>78656</td>\n",
       "    </tr>\n",
       "    <tr>\n",
       "      <th>87</th>\n",
       "      <td>Brand_B VISTA</td>\n",
       "      <td>NORAME</td>\n",
       "      <td>2015</td>\n",
       "      <td>11</td>\n",
       "      <td>45372</td>\n",
       "    </tr>\n",
       "    <tr>\n",
       "      <th>88</th>\n",
       "      <td>Brand_B VISTA</td>\n",
       "      <td>NORAME</td>\n",
       "      <td>2015</td>\n",
       "      <td>12</td>\n",
       "      <td>43946</td>\n",
       "    </tr>\n",
       "  </tbody>\n",
       "</table>\n",
       "</div>"
      ],
      "text/plain": [
       "            BRAND    AREA  YEAR  MONTH  DEMAND\n",
       "65  Brand_B VISTA  MUESED  2015     11  110066\n",
       "66  Brand_B VISTA  MUESED  2015     12   78656\n",
       "87  Brand_B VISTA  NORAME  2015     11   45372\n",
       "88  Brand_B VISTA  NORAME  2015     12   43946"
      ]
     },
     "execution_count": 10,
     "metadata": {},
     "output_type": "execute_result"
    }
   ],
   "source": [
    "# Get all data for Nov. or Dec. if demand is larger than 30000\n",
    "\n",
    "df.loc[(df['DEMAND']>30000) & ((df['MONTH']==12) | (df['MONTH']==11))] "
   ]
  },
  {
   "cell_type": "markdown",
   "metadata": {},
   "source": [
    "Another convenient method for looking up strings in the dataframe is `df[].str.contains()`, this method will return a new dataframe of booleans for each row of the dataframe, simplely warp it with the original dataframe to get data contains a certian string."
   ]
  },
  {
   "cell_type": "code",
   "execution_count": 11,
   "metadata": {
    "collapsed": false
   },
   "outputs": [
    {
     "data": {
      "text/plain": [
       "0    False\n",
       "1    False\n",
       "2    False\n",
       "3    False\n",
       "4    False\n",
       "Name: BRAND, dtype: bool"
      ]
     },
     "execution_count": 11,
     "metadata": {},
     "output_type": "execute_result"
    }
   ],
   "source": [
    "df['BRAND'].str.contains(\"_B VISTA\").head(5)"
   ]
  },
  {
   "cell_type": "code",
   "execution_count": 12,
   "metadata": {
    "collapsed": false
   },
   "outputs": [
    {
     "data": {
      "text/html": [
       "<div>\n",
       "<table border=\"1\" class=\"dataframe\">\n",
       "  <thead>\n",
       "    <tr style=\"text-align: right;\">\n",
       "      <th></th>\n",
       "      <th>BRAND</th>\n",
       "      <th>AREA</th>\n",
       "      <th>YEAR</th>\n",
       "      <th>MONTH</th>\n",
       "      <th>DEMAND</th>\n",
       "    </tr>\n",
       "  </thead>\n",
       "  <tbody>\n",
       "    <tr>\n",
       "      <th>8</th>\n",
       "      <td>Brand_B VISTA</td>\n",
       "      <td>LTFDUB</td>\n",
       "      <td>2015</td>\n",
       "      <td>4</td>\n",
       "      <td>255</td>\n",
       "    </tr>\n",
       "    <tr>\n",
       "      <th>9</th>\n",
       "      <td>Brand_B VISTA</td>\n",
       "      <td>LTFDUB</td>\n",
       "      <td>2015</td>\n",
       "      <td>7</td>\n",
       "      <td>112</td>\n",
       "    </tr>\n",
       "    <tr>\n",
       "      <th>10</th>\n",
       "      <td>Brand_B VISTA</td>\n",
       "      <td>MENA</td>\n",
       "      <td>2015</td>\n",
       "      <td>11</td>\n",
       "      <td>806</td>\n",
       "    </tr>\n",
       "    <tr>\n",
       "      <th>11</th>\n",
       "      <td>Brand_B VISTA</td>\n",
       "      <td>MENA</td>\n",
       "      <td>2015</td>\n",
       "      <td>12</td>\n",
       "      <td>276</td>\n",
       "    </tr>\n",
       "    <tr>\n",
       "      <th>12</th>\n",
       "      <td>Brand_B VISTA</td>\n",
       "      <td>MENA</td>\n",
       "      <td>2016</td>\n",
       "      <td>2</td>\n",
       "      <td>7833</td>\n",
       "    </tr>\n",
       "  </tbody>\n",
       "</table>\n",
       "</div>"
      ],
      "text/plain": [
       "            BRAND    AREA  YEAR  MONTH  DEMAND\n",
       "8   Brand_B VISTA  LTFDUB  2015      4     255\n",
       "9   Brand_B VISTA  LTFDUB  2015      7     112\n",
       "10  Brand_B VISTA    MENA  2015     11     806\n",
       "11  Brand_B VISTA    MENA  2015     12     276\n",
       "12  Brand_B VISTA    MENA  2016      2    7833"
      ]
     },
     "execution_count": 12,
     "metadata": {},
     "output_type": "execute_result"
    }
   ],
   "source": [
    "df[df['BRAND'].str.contains(\"_B VISTA\")].head(5)"
   ]
  },
  {
   "cell_type": "markdown",
   "metadata": {},
   "source": [
    "### Convert year, month in different columns into timeseries"
   ]
  },
  {
   "cell_type": "markdown",
   "metadata": {},
   "source": [
    "Simplely use `pd.to_datetime()` to convert year, month, date from string to datetime objects. Original year and month loaded form xlsx file are stored as `numpy.int64`, so we can easily convert them into string by using `df[].astype(str)`."
   ]
  },
  {
   "cell_type": "code",
   "execution_count": 13,
   "metadata": {
    "collapsed": false
   },
   "outputs": [
    {
     "data": {
      "text/plain": [
       "numpy.int64"
      ]
     },
     "execution_count": 13,
     "metadata": {},
     "output_type": "execute_result"
    }
   ],
   "source": [
    "type(df['YEAR'][0])"
   ]
  },
  {
   "cell_type": "code",
   "execution_count": 14,
   "metadata": {
    "collapsed": false
   },
   "outputs": [
    {
     "data": {
      "text/plain": [
       "0   2016-01-01\n",
       "1   2016-04-01\n",
       "2   2016-05-01\n",
       "3   2016-06-01\n",
       "4   2016-07-01\n",
       "dtype: datetime64[ns]"
      ]
     },
     "execution_count": 14,
     "metadata": {},
     "output_type": "execute_result"
    }
   ],
   "source": [
    "pd.to_datetime(df['YEAR'].astype(str) + '-' + df['MONTH'].astype(str)).head(5)"
   ]
  },
  {
   "cell_type": "markdown",
   "metadata": {},
   "source": [
    "We can add converted datatime object and store them in the dataframe by creating a new column and pass the output of previous step to it."
   ]
  },
  {
   "cell_type": "code",
   "execution_count": 16,
   "metadata": {
    "collapsed": false
   },
   "outputs": [
    {
     "data": {
      "text/html": [
       "<div>\n",
       "<table border=\"1\" class=\"dataframe\">\n",
       "  <thead>\n",
       "    <tr style=\"text-align: right;\">\n",
       "      <th></th>\n",
       "      <th>BRAND</th>\n",
       "      <th>AREA</th>\n",
       "      <th>YEAR</th>\n",
       "      <th>MONTH</th>\n",
       "      <th>DEMAND</th>\n",
       "      <th>TIME</th>\n",
       "    </tr>\n",
       "  </thead>\n",
       "  <tbody>\n",
       "    <tr>\n",
       "      <th>0</th>\n",
       "      <td>Brand_A</td>\n",
       "      <td>ASTRL</td>\n",
       "      <td>2016</td>\n",
       "      <td>1</td>\n",
       "      <td>21</td>\n",
       "      <td>2016-01-01</td>\n",
       "    </tr>\n",
       "    <tr>\n",
       "      <th>1</th>\n",
       "      <td>Brand_A</td>\n",
       "      <td>ASTRL</td>\n",
       "      <td>2016</td>\n",
       "      <td>4</td>\n",
       "      <td>1666</td>\n",
       "      <td>2016-04-01</td>\n",
       "    </tr>\n",
       "    <tr>\n",
       "      <th>2</th>\n",
       "      <td>Brand_A</td>\n",
       "      <td>ASTRL</td>\n",
       "      <td>2016</td>\n",
       "      <td>5</td>\n",
       "      <td>1296</td>\n",
       "      <td>2016-05-01</td>\n",
       "    </tr>\n",
       "    <tr>\n",
       "      <th>3</th>\n",
       "      <td>Brand_A</td>\n",
       "      <td>ASTRL</td>\n",
       "      <td>2016</td>\n",
       "      <td>6</td>\n",
       "      <td>978</td>\n",
       "      <td>2016-06-01</td>\n",
       "    </tr>\n",
       "    <tr>\n",
       "      <th>4</th>\n",
       "      <td>Brand_A</td>\n",
       "      <td>ASTRL</td>\n",
       "      <td>2016</td>\n",
       "      <td>7</td>\n",
       "      <td>872</td>\n",
       "      <td>2016-07-01</td>\n",
       "    </tr>\n",
       "  </tbody>\n",
       "</table>\n",
       "</div>"
      ],
      "text/plain": [
       "     BRAND   AREA  YEAR  MONTH  DEMAND       TIME\n",
       "0  Brand_A  ASTRL  2016      1      21 2016-01-01\n",
       "1  Brand_A  ASTRL  2016      4    1666 2016-04-01\n",
       "2  Brand_A  ASTRL  2016      5    1296 2016-05-01\n",
       "3  Brand_A  ASTRL  2016      6     978 2016-06-01\n",
       "4  Brand_A  ASTRL  2016      7     872 2016-07-01"
      ]
     },
     "execution_count": 16,
     "metadata": {},
     "output_type": "execute_result"
    }
   ],
   "source": [
    "df['TIME'] = pd.to_datetime(df['YEAR'].astype(str) + '-' + df['MONTH'].astype(str))\n",
    "\n",
    "df.head(5)"
   ]
  },
  {
   "cell_type": "markdown",
   "metadata": {},
   "source": [
    "### Sort by time"
   ]
  },
  {
   "cell_type": "markdown",
   "metadata": {},
   "source": [
    "To sort data in time sequence, simplely use `df.sort_values()` to reorder the dataframe by column name. Below is an example of combining index methods with sort methods to get *Brand_A* in *ASTRL* in time order."
   ]
  },
  {
   "cell_type": "code",
   "execution_count": 17,
   "metadata": {
    "collapsed": false,
    "scrolled": true
   },
   "outputs": [
    {
     "data": {
      "text/html": [
       "<div>\n",
       "<table border=\"1\" class=\"dataframe\">\n",
       "  <thead>\n",
       "    <tr style=\"text-align: right;\">\n",
       "      <th></th>\n",
       "      <th>BRAND</th>\n",
       "      <th>AREA</th>\n",
       "      <th>YEAR</th>\n",
       "      <th>MONTH</th>\n",
       "      <th>DEMAND</th>\n",
       "      <th>TIME</th>\n",
       "    </tr>\n",
       "  </thead>\n",
       "  <tbody>\n",
       "    <tr>\n",
       "      <th>0</th>\n",
       "      <td>Brand_A</td>\n",
       "      <td>ASTRL</td>\n",
       "      <td>2016</td>\n",
       "      <td>1</td>\n",
       "      <td>21</td>\n",
       "      <td>2016-01-01</td>\n",
       "    </tr>\n",
       "    <tr>\n",
       "      <th>1</th>\n",
       "      <td>Brand_A</td>\n",
       "      <td>ASTRL</td>\n",
       "      <td>2016</td>\n",
       "      <td>4</td>\n",
       "      <td>1666</td>\n",
       "      <td>2016-04-01</td>\n",
       "    </tr>\n",
       "    <tr>\n",
       "      <th>2</th>\n",
       "      <td>Brand_A</td>\n",
       "      <td>ASTRL</td>\n",
       "      <td>2016</td>\n",
       "      <td>5</td>\n",
       "      <td>1296</td>\n",
       "      <td>2016-05-01</td>\n",
       "    </tr>\n",
       "    <tr>\n",
       "      <th>3</th>\n",
       "      <td>Brand_A</td>\n",
       "      <td>ASTRL</td>\n",
       "      <td>2016</td>\n",
       "      <td>6</td>\n",
       "      <td>978</td>\n",
       "      <td>2016-06-01</td>\n",
       "    </tr>\n",
       "    <tr>\n",
       "      <th>4</th>\n",
       "      <td>Brand_A</td>\n",
       "      <td>ASTRL</td>\n",
       "      <td>2016</td>\n",
       "      <td>7</td>\n",
       "      <td>872</td>\n",
       "      <td>2016-07-01</td>\n",
       "    </tr>\n",
       "    <tr>\n",
       "      <th>5</th>\n",
       "      <td>Brand_A</td>\n",
       "      <td>ASTRL</td>\n",
       "      <td>2016</td>\n",
       "      <td>8</td>\n",
       "      <td>746</td>\n",
       "      <td>2016-08-01</td>\n",
       "    </tr>\n",
       "  </tbody>\n",
       "</table>\n",
       "</div>"
      ],
      "text/plain": [
       "     BRAND   AREA  YEAR  MONTH  DEMAND       TIME\n",
       "0  Brand_A  ASTRL  2016      1      21 2016-01-01\n",
       "1  Brand_A  ASTRL  2016      4    1666 2016-04-01\n",
       "2  Brand_A  ASTRL  2016      5    1296 2016-05-01\n",
       "3  Brand_A  ASTRL  2016      6     978 2016-06-01\n",
       "4  Brand_A  ASTRL  2016      7     872 2016-07-01\n",
       "5  Brand_A  ASTRL  2016      8     746 2016-08-01"
      ]
     },
     "execution_count": 17,
     "metadata": {},
     "output_type": "execute_result"
    }
   ],
   "source": [
    "df_sorted = df.loc[(df['BRAND']=='Brand_A') & (df['AREA']=='ASTRL')].sort_values('TIME', ascending=True)\n",
    "\n",
    "df_sorted"
   ]
  },
  {
   "cell_type": "markdown",
   "metadata": {},
   "source": [
    "### Plot"
   ]
  },
  {
   "cell_type": "markdown",
   "metadata": {},
   "source": [
    "Pandas has matplotlab built in, simplely use `df.plot()` to visualize data. "
   ]
  },
  {
   "cell_type": "code",
   "execution_count": 18,
   "metadata": {
    "collapsed": false
   },
   "outputs": [
    {
     "data": {
      "text/plain": [
       "<matplotlib.axes._subplots.AxesSubplot at 0x1125372b0>"
      ]
     },
     "execution_count": 18,
     "metadata": {},
     "output_type": "execute_result"
    },
    {
     "data": {
      "image/png": "[encoded data removed]",
      "text/plain": [
       "<matplotlib.figure.Figure at 0x112537c88>"
      ]
     },
     "metadata": {},
     "output_type": "display_data"
    }
   ],
   "source": [
    "df_sorted.plot(x='TIME', y='DEMAND',figsize=(8,4))"
   ]
  },
  {
   "cell_type": "markdown",
   "metadata": {},
   "source": [
    "### Other"
   ]
  },
  {
   "cell_type": "markdown",
   "metadata": {},
   "source": [
    "#### Dataframe stores python objects"
   ]
  },
  {
   "cell_type": "markdown",
   "metadata": {},
   "source": [
    "Pandas dataframe can store python objects as well, which can be convenient for further usage. "
   ]
  },
  {
   "cell_type": "code",
   "execution_count": 19,
   "metadata": {
    "collapsed": true
   },
   "outputs": [],
   "source": [
    "data = [[[1,2,3]],\n",
    "        [[1,2,3]]]"
   ]
  },
  {
   "cell_type": "code",
   "execution_count": 20,
   "metadata": {
    "collapsed": false
   },
   "outputs": [
    {
     "data": {
      "text/html": [
       "<div>\n",
       "<table border=\"1\" class=\"dataframe\">\n",
       "  <thead>\n",
       "    <tr style=\"text-align: right;\">\n",
       "      <th></th>\n",
       "      <th>List Object</th>\n",
       "    </tr>\n",
       "  </thead>\n",
       "  <tbody>\n",
       "    <tr>\n",
       "      <th>0</th>\n",
       "      <td>[1, 2, 3]</td>\n",
       "    </tr>\n",
       "    <tr>\n",
       "      <th>1</th>\n",
       "      <td>[1, 2, 3]</td>\n",
       "    </tr>\n",
       "  </tbody>\n",
       "</table>\n",
       "</div>"
      ],
      "text/plain": [
       "  List Object\n",
       "0   [1, 2, 3]\n",
       "1   [1, 2, 3]"
      ]
     },
     "execution_count": 20,
     "metadata": {},
     "output_type": "execute_result"
    }
   ],
   "source": [
    "df_obj = pd.DataFrame(data=data,columns=['List Object'])\n",
    "df_obj"
   ]
  },
  {
   "cell_type": "code",
   "execution_count": 21,
   "metadata": {
    "collapsed": false
   },
   "outputs": [
    {
     "data": {
      "text/plain": [
       "list"
      ]
     },
     "execution_count": 21,
     "metadata": {},
     "output_type": "execute_result"
    }
   ],
   "source": [
    "type(df_obj.ix[0,0])"
   ]
  }
 ],
 "metadata": {
  "kernelspec": {
   "display_name": "Python 3",
   "language": "python",
   "name": "python3"
  },
  "language_info": {
   "codemirror_mode": {
    "name": "ipython",
    "version": 3
   },
   "file_extension": ".py",
   "mimetype": "text/x-python",
   "name": "python",
   "nbconvert_exporter": "python",
   "pygments_lexer": "ipython3",
   "version": "3.5.2"
  }
 },
 "nbformat": 4,
 "nbformat_minor": 0
}
